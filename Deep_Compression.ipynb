{
 "cells": [
  {
   "cell_type": "code",
   "execution_count": 31,
   "metadata": {},
   "outputs": [
    {
     "name": "stdout",
     "output_type": "stream",
     "text": [
      "Cloning into 'Deep-Compression-Tutorial'...\n",
      "warning: You appear to have cloned an empty repository.\n"
     ]
    }
   ],
   "source": [
    "# Clone git repository\n",
    "!rm -r .*\n",
    "!git clone https://github.com/mujjingun/Deep-Compression-Tutorial ."
   ]
  },
  {
   "cell_type": "markdown",
   "metadata": {
    "id": "DKt1TfTLFkJ8",
    "tags": []
   },
   "source": [
    "# Import packages"
   ]
  },
  {
   "cell_type": "code",
   "execution_count": 1,
   "metadata": {
    "id": "XK6CQyo_AD37"
   },
   "outputs": [],
   "source": [
    "import math\n",
    "import os\n",
    "import io\n",
    "\n",
    "import numpy as np\n",
    "\n",
    "from scipy.sparse import csr_matrix, csc_matrix\n",
    "from sklearn.cluster import KMeans\n",
    "import matplotlib.pyplot as plt\n",
    "\n",
    "import torch\n",
    "import torch.nn.functional as F\n",
    "from torchvision import datasets, transforms\n",
    "\n",
    "from collections import defaultdict, namedtuple\n",
    "from heapq import heappush, heappop, heapify\n",
    "import struct\n",
    "from pathlib import Path\n",
    "from tqdm import tqdm"
   ]
  },
  {
   "cell_type": "markdown",
   "metadata": {
    "id": "e-Rgi3jVBkOB",
    "tags": []
   },
   "source": [
    "# Load MNIST dataset"
   ]
  },
  {
   "cell_type": "code",
   "execution_count": 2,
   "metadata": {
    "id": "YrzJL9i9BW07"
   },
   "outputs": [
    {
     "name": "stdout",
     "output_type": "stream",
     "text": [
      "Downloading http://yann.lecun.com/exdb/mnist/train-images-idx3-ubyte.gz\n",
      "Downloading http://yann.lecun.com/exdb/mnist/train-images-idx3-ubyte.gz to data/MNIST/raw/train-images-idx3-ubyte.gz\n"
     ]
    },
    {
     "data": {
      "application/vnd.jupyter.widget-view+json": {
       "model_id": "3f3a38e965c349c9a19f602715bd0b54",
       "version_major": 2,
       "version_minor": 0
      },
      "text/plain": [
       "  0%|          | 0/9912422 [00:00<?, ?it/s]"
      ]
     },
     "metadata": {},
     "output_type": "display_data"
    },
    {
     "name": "stdout",
     "output_type": "stream",
     "text": [
      "Extracting data/MNIST/raw/train-images-idx3-ubyte.gz to data/MNIST/raw\n",
      "\n",
      "Downloading http://yann.lecun.com/exdb/mnist/train-labels-idx1-ubyte.gz\n",
      "Downloading http://yann.lecun.com/exdb/mnist/train-labels-idx1-ubyte.gz to data/MNIST/raw/train-labels-idx1-ubyte.gz\n"
     ]
    },
    {
     "data": {
      "application/vnd.jupyter.widget-view+json": {
       "model_id": "9d4b000eb70e4808b36d6aa13108833f",
       "version_major": 2,
       "version_minor": 0
      },
      "text/plain": [
       "  0%|          | 0/28881 [00:00<?, ?it/s]"
      ]
     },
     "metadata": {},
     "output_type": "display_data"
    },
    {
     "name": "stdout",
     "output_type": "stream",
     "text": [
      "Extracting data/MNIST/raw/train-labels-idx1-ubyte.gz to data/MNIST/raw\n",
      "\n",
      "Downloading http://yann.lecun.com/exdb/mnist/t10k-images-idx3-ubyte.gz\n",
      "Downloading http://yann.lecun.com/exdb/mnist/t10k-images-idx3-ubyte.gz to data/MNIST/raw/t10k-images-idx3-ubyte.gz\n"
     ]
    },
    {
     "data": {
      "application/vnd.jupyter.widget-view+json": {
       "model_id": "7f472e15f2a145d3a37bb9683223df69",
       "version_major": 2,
       "version_minor": 0
      },
      "text/plain": [
       "  0%|          | 0/1648877 [00:00<?, ?it/s]"
      ]
     },
     "metadata": {},
     "output_type": "display_data"
    },
    {
     "name": "stdout",
     "output_type": "stream",
     "text": [
      "Extracting data/MNIST/raw/t10k-images-idx3-ubyte.gz to data/MNIST/raw\n",
      "\n",
      "Downloading http://yann.lecun.com/exdb/mnist/t10k-labels-idx1-ubyte.gz\n",
      "Downloading http://yann.lecun.com/exdb/mnist/t10k-labels-idx1-ubyte.gz to data/MNIST/raw/t10k-labels-idx1-ubyte.gz\n"
     ]
    },
    {
     "data": {
      "application/vnd.jupyter.widget-view+json": {
       "model_id": "766c3e7dbf8147aba91ef592fb64a89a",
       "version_major": 2,
       "version_minor": 0
      },
      "text/plain": [
       "  0%|          | 0/4542 [00:00<?, ?it/s]"
      ]
     },
     "metadata": {},
     "output_type": "display_data"
    },
    {
     "name": "stdout",
     "output_type": "stream",
     "text": [
      "Extracting data/MNIST/raw/t10k-labels-idx1-ubyte.gz to data/MNIST/raw\n",
      "\n"
     ]
    }
   ],
   "source": [
    "SEED = 42\n",
    "\n",
    "BATCH_SIZE = 50  # input batch size for training\n",
    "TEST_BATCH_SIZE = 1000  # input batch size for testing\n",
    "\n",
    "# Control Seed\n",
    "torch.manual_seed(SEED)\n",
    "torch.cuda.manual_seed(SEED)\n",
    "\n",
    "# Loader\n",
    "kwargs = {'num_workers': 2, 'pin_memory': True}\n",
    "train_loader = torch.utils.data.DataLoader(\n",
    "    datasets.MNIST('data', train=True, download=True,\n",
    "                   transform=transforms.Compose([\n",
    "                       transforms.ToTensor(),\n",
    "                       transforms.Normalize((0.1307,), (0.3081,))\n",
    "                   ])),\n",
    "    batch_size=BATCH_SIZE, shuffle=True, **kwargs)\n",
    "test_loader = torch.utils.data.DataLoader(\n",
    "    datasets.MNIST('data', train=False, transform=transforms.Compose([\n",
    "                       transforms.ToTensor(),\n",
    "                       transforms.Normalize((0.1307,), (0.3081,))\n",
    "                   ])),\n",
    "    batch_size=TEST_BATCH_SIZE, shuffle=False, **kwargs)"
   ]
  },
  {
   "cell_type": "markdown",
   "metadata": {
    "id": "QSS_3wGkB3do"
   },
   "source": [
    "## Training and Test Loop"
   ]
  },
  {
   "cell_type": "code",
   "execution_count": 3,
   "metadata": {
    "id": "x4blkRo-B2sk"
   },
   "outputs": [],
   "source": [
    "def train(model, epochs, learning_rate=0.01, log_interval=10):\n",
    "    # NOTE : `weight_decay` term denotes L2 regularization loss term\n",
    "    optimizer = torch.optim.Adam(model.parameters(), lr=learning_rate, weight_decay=0.0001)\n",
    "    initial_optimizer_state_dict = optimizer.state_dict()\n",
    "\n",
    "    model.train()\n",
    "    for epoch in range(epochs):\n",
    "        pbar = tqdm(enumerate(train_loader), total=len(train_loader))\n",
    "        for batch_idx, (data, target) in pbar:\n",
    "            data, target = data.cuda(), target.cuda()\n",
    "            optimizer.zero_grad()\n",
    "            output = model(data)\n",
    "            loss = F.nll_loss(output, target)\n",
    "            loss.backward()\n",
    "\n",
    "            optimizer.step()\n",
    "            if batch_idx % log_interval == 0:\n",
    "                done = batch_idx * len(data)\n",
    "                percentage = 100. * batch_idx / len(train_loader)\n",
    "                pbar.set_description(f'Train Epoch: {epoch} [{done:5}/{len(train_loader.dataset)} ({percentage:3.0f}%)]  Loss: {loss.item():.6f}')\n",
    "\n",
    "\n",
    "def test(model):\n",
    "    model.eval()\n",
    "    test_loss = 0\n",
    "    correct = 0\n",
    "    with torch.no_grad():\n",
    "        for data, target in test_loader:\n",
    "            data, target = data.cuda(), target.cuda()\n",
    "            output = model(data)\n",
    "            test_loss += F.nll_loss(output, target, reduction='sum').item() # sum up batch loss\n",
    "            pred = output.data.max(1, keepdim=True)[1] # get the index of the max log-probability\n",
    "            correct += pred.eq(target.data.view_as(pred)).sum().item()\n",
    "\n",
    "        test_loss /= len(test_loader.dataset)\n",
    "        accuracy = 100. * correct / len(test_loader.dataset)\n",
    "        print(f'Test set: Average loss: {test_loss:.4f}, Accuracy: {correct}/{len(test_loader.dataset)} ({accuracy:.2f}%)')\n",
    "    return accuracy"
   ]
  },
  {
   "cell_type": "markdown",
   "metadata": {
    "id": "FGj2suo9FnaZ",
    "tags": []
   },
   "source": [
    "# Network Architecture"
   ]
  },
  {
   "cell_type": "code",
   "execution_count": 4,
   "metadata": {
    "id": "XgGn4sX6-RGQ"
   },
   "outputs": [],
   "source": [
    "class LeNet(torch.nn.Module):\n",
    "    def __init__(self):\n",
    "        super(LeNet, self).__init__()\n",
    "        self.fc1 = torch.nn.Linear(784, 300)\n",
    "        self.fc2 = torch.nn.Linear(300, 100)\n",
    "        self.fc3 = torch.nn.Linear(100, 10)\n",
    "\n",
    "    def forward(self, x):\n",
    "        x = x.view(-1, 784)\n",
    "        x = F.relu(self.fc1(x))\n",
    "        x = F.relu(self.fc2(x))\n",
    "        x = F.log_softmax(self.fc3(x), dim=1)\n",
    "        return x"
   ]
  },
  {
   "cell_type": "code",
   "execution_count": 6,
   "metadata": {
    "colab": {
     "base_uri": "https://localhost:8080/"
    },
    "id": "ItxQqVi5A005",
    "outputId": "85c0e3ad-147f-4461-de56-48238457af37"
   },
   "outputs": [
    {
     "name": "stdout",
     "output_type": "stream",
     "text": [
      "LeNet(\n",
      "  (fc1): Linear(in_features=784, out_features=300, bias=True)\n",
      "  (fc2): Linear(in_features=300, out_features=100, bias=True)\n",
      "  (fc3): Linear(in_features=100, out_features=10, bias=True)\n",
      ")\n",
      "Total size = 1066440 bytes\n"
     ]
    }
   ],
   "source": [
    "model = LeNet().cuda()\n",
    "model.load_state_dict(torch.load(\"initial_model_statedict.pth\"))\n",
    "\n",
    "print(model)\n",
    "print(f\"Total size = {sum(p.numel() * 4 for p in model.parameters())} bytes\")"
   ]
  },
  {
   "cell_type": "code",
   "execution_count": 7,
   "metadata": {
    "colab": {
     "base_uri": "https://localhost:8080/"
    },
    "id": "vLetBfFFCEfV",
    "outputId": "aef38bd1-50e6-497e-a64d-c29ffdc2f5b7"
   },
   "outputs": [
    {
     "name": "stdout",
     "output_type": "stream",
     "text": [
      "Test set: Average loss: 0.1739, Accuracy: 9566/10000 (95.66%)\n"
     ]
    },
    {
     "data": {
      "text/plain": [
       "95.66"
      ]
     },
     "execution_count": 7,
     "metadata": {},
     "output_type": "execute_result"
    }
   ],
   "source": [
    "# Evaluate initial model performance\n",
    "test(model)"
   ]
  },
  {
   "cell_type": "markdown",
   "metadata": {
    "id": "I_Bbl6lUCu8S"
   },
   "source": [
    "# Step 1. Modify the Model Code\n",
    "\n",
    "Replace the `torch.nn.Linear` modules in `LeNet` by your custom linear module that applies a binary mask to the weights. \n",
    "\n"
   ]
  },
  {
   "cell_type": "code",
   "execution_count": 11,
   "metadata": {
    "id": "QsXWDiEyDGKP"
   },
   "outputs": [],
   "source": [
    "class MaskedLinear(torch.nn.Linear):\n",
    "    def __init__(self, in_features, out_features, bias=True):\n",
    "        super(MaskedLinear, self).__init__(in_features, out_features, bias)\n",
    "        ##################################################\n",
    "        #                    TODO\n",
    "        # Define `self.mask` which represents a binary mask.\n",
    "        ##################################################\n",
    "    \n",
    "    def forward(self, x):\n",
    "        ##################################################\n",
    "        #                    TODO\n",
    "        # Apply `self.mask` to the weights before \n",
    "        # performing matrix multiplication.\n",
    "        ##################################################\n",
    "        return F.linear(x, self.weight, self.bias)"
   ]
  },
  {
   "cell_type": "code",
   "execution_count": 12,
   "metadata": {
    "id": "o44gMSFxJ9i7"
   },
   "outputs": [],
   "source": [
    "class MaskedLeNet(torch.nn.Module):\n",
    "    def __init__(self):\n",
    "        super(MaskedLeNet, self).__init__()\n",
    "        ##################################################\n",
    "        #                   TODO\n",
    "        # Replace stock `torch.nn.Linear` with our custom\n",
    "        # `MaskedLinear` module.\n",
    "        ##################################################\n",
    "        self.fc1 = torch.nn.Linear(784, 300)\n",
    "        self.fc2 = torch.nn.Linear(300, 100)\n",
    "        self.fc3 = torch.nn.Linear(100, 10)\n",
    "\n",
    "    def forward(self, x):\n",
    "        x = x.view(-1, 784)\n",
    "        x = F.relu(self.fc1(x))\n",
    "        x = F.relu(self.fc2(x))\n",
    "        x = F.log_softmax(self.fc3(x), dim=1)\n",
    "        return x"
   ]
  },
  {
   "cell_type": "code",
   "execution_count": 13,
   "metadata": {},
   "outputs": [],
   "source": [
    "# Utility function for reporting model size\n",
    "def report_model_size(model, bits_per_weight=32):\n",
    "    print(f\"{'Layer':<15}{'Shape':<15}{'Size (bytes)':<15}{'Original Size (bytes)':<25}{'Size Reduction':<20}\")\n",
    "    print(\"=\"*90)\n",
    "    \n",
    "    total_cur_size = 0\n",
    "    total_orig_size = 0\n",
    "    \n",
    "    for name, module in model.named_modules():\n",
    "        if isinstance(module, MaskedLinear):\n",
    "            cur_size = module.mask.sum().item()*bits_per_weight/8\n",
    "            orig_size = module.weight.numel()*4\n",
    "            print(f\"{f'{name}.weight':<15}{f'[{module.weight.shape[0]}, {module.weight.shape[1]}]':<15}\"\n",
    "                  f\"{cur_size:<15.0f}{orig_size:<25}\"\n",
    "                  f\"{f'{1-cur_size/orig_size:.4f}%':<20}\")\n",
    "            total_cur_size += cur_size\n",
    "            total_orig_size += orig_size\n",
    "            \n",
    "            cur_size = module.bias.numel()*4\n",
    "            orig_size = module.bias.numel()*4\n",
    "            print(f\"{f'{name}.bias':<15}{f'[{module.bias.shape[0]}]':<15}\"\n",
    "                  f\"{cur_size:<15.0f}{orig_size:<25}\"\n",
    "                  f\"{f'{1-cur_size/orig_size:.4f}%':<20}\")\n",
    "            total_cur_size += cur_size\n",
    "            total_orig_size += orig_size\n",
    "    \n",
    "    print(\"=\"*90)\n",
    "    print(f\"{'Total':<15}{'N/A':<15}{total_cur_size:<15.0f}{total_orig_size:<25}\"\n",
    "          f\"{f'{1-total_cur_size/total_orig_size:.4f}%':<20}\")"
   ]
  },
  {
   "cell_type": "markdown",
   "metadata": {
    "id": "a3tKMguTKYx2",
    "jp-MarkdownHeadingCollapsed": true,
    "tags": []
   },
   "source": [
    "### Solution"
   ]
  },
  {
   "cell_type": "code",
   "execution_count": 14,
   "metadata": {
    "id": "BdMMbi1nKYSY"
   },
   "outputs": [],
   "source": [
    "class MaskedLinear(torch.nn.Linear):\n",
    "    def __init__(self, in_features, out_features, bias=True):\n",
    "        super(MaskedLinear, self).__init__(in_features, out_features, bias)\n",
    "        ##################################################\n",
    "        #                    TODO\n",
    "        # Define `self.mask` which represents a binary mask.\n",
    "        ##################################################\n",
    "        self.mask = torch.ones_like(self.weight).cuda()\n",
    "    \n",
    "    def forward(self, x):\n",
    "        ##################################################\n",
    "        #                    TODO\n",
    "        # Apply `self.mask` to the weights before \n",
    "        # performing matrix multiplication.\n",
    "        ##################################################\n",
    "        masked_weight = self.weight * self.mask\n",
    "        return F.linear(x, masked_weight, self.bias)"
   ]
  },
  {
   "cell_type": "code",
   "execution_count": 15,
   "metadata": {
    "id": "dVDTfpLoKhhP"
   },
   "outputs": [],
   "source": [
    "class MaskedLeNet(torch.nn.Module):\n",
    "    def __init__(self):\n",
    "        super(MaskedLeNet, self).__init__()\n",
    "        ##################################################\n",
    "        #                   TODO\n",
    "        # Replace stock `torch.nn.Linear` with our custom\n",
    "        # `MaskedLinear` module.\n",
    "        ##################################################\n",
    "        self.fc1 = MaskedLinear(784, 300)\n",
    "        self.fc2 = MaskedLinear(300, 100)\n",
    "        self.fc3 = MaskedLinear(100, 10)\n",
    "\n",
    "    def forward(self, x):\n",
    "        x = x.view(-1, 784)\n",
    "        x = F.relu(self.fc1(x))\n",
    "        x = F.relu(self.fc2(x))\n",
    "        x = F.log_softmax(self.fc3(x), dim=1)\n",
    "        return x"
   ]
  },
  {
   "cell_type": "markdown",
   "metadata": {
    "id": "t_1CAzW1KbK6"
   },
   "source": [
    "### Test model"
   ]
  },
  {
   "cell_type": "code",
   "execution_count": 16,
   "metadata": {
    "colab": {
     "base_uri": "https://localhost:8080/"
    },
    "id": "brPSJ4QPKV0i",
    "outputId": "b13df396-8d1a-4ce6-9705-eecd21371f2e"
   },
   "outputs": [
    {
     "name": "stdout",
     "output_type": "stream",
     "text": [
      "MaskedLeNet(\n",
      "  (fc1): MaskedLinear(in_features=784, out_features=300, bias=True)\n",
      "  (fc2): MaskedLinear(in_features=300, out_features=100, bias=True)\n",
      "  (fc3): MaskedLinear(in_features=100, out_features=10, bias=True)\n",
      ")\n"
     ]
    }
   ],
   "source": [
    "model = MaskedLeNet().cuda()\n",
    "model.load_state_dict(torch.load(\"initial_model_statedict.pth\"))\n",
    "\n",
    "print(model)"
   ]
  },
  {
   "cell_type": "code",
   "execution_count": 17,
   "metadata": {
    "colab": {
     "base_uri": "https://localhost:8080/"
    },
    "id": "G5tO52ogLJ9f",
    "outputId": "e7fc1fdf-5457-4123-b116-d140fec55f77"
   },
   "outputs": [
    {
     "name": "stdout",
     "output_type": "stream",
     "text": [
      "Test set: Average loss: 0.1739, Accuracy: 9566/10000 (95.66%)\n",
      "Layer          Shape          Size (bytes)   Original Size (bytes)    Size Reduction      \n",
      "==========================================================================================\n",
      "fc1.weight     [300, 784]     940800         940800                   0.0000%             \n",
      "fc1.bias       [300]          1200           1200                     0.0000%             \n",
      "fc2.weight     [100, 300]     120000         120000                   0.0000%             \n",
      "fc2.bias       [100]          400            400                      0.0000%             \n",
      "fc3.weight     [10, 100]      4000           4000                     0.0000%             \n",
      "fc3.bias       [10]           40             40                       0.0000%             \n",
      "==========================================================================================\n",
      "Total          N/A            1066440        1066440                  0.0000%             \n"
     ]
    }
   ],
   "source": [
    "# Evaluate initial model performance\n",
    "test(model)\n",
    "report_model_size(model)"
   ]
  },
  {
   "cell_type": "code",
   "execution_count": 289,
   "metadata": {
    "colab": {
     "base_uri": "https://localhost:8080/",
     "height": 438
    },
    "id": "PTAZbJA6MYqP",
    "outputId": "b16a9129-6fcf-41c0-d758-1c577cc325a1"
   },
   "outputs": [
    {
     "data": {
      "text/plain": [
       "<matplotlib.legend.Legend at 0x7f2938b71250>"
      ]
     },
     "execution_count": 289,
     "metadata": {},
     "output_type": "execute_result"
    },
    {
     "data": {
      "image/png": "[encoded data removed]",
      "text/plain": [
       "<Figure size 750x450 with 1 Axes>"
      ]
     },
     "metadata": {
      "needs_background": "light"
     },
     "output_type": "display_data"
    }
   ],
   "source": [
    "# Visualize weight distribution\n",
    "plt.figure(figsize=(5, 3), dpi=150)\n",
    "plt.yscale('log')\n",
    "\n",
    "weights = model.fc1.weight.data.flatten().cpu()\n",
    "\n",
    "plt.hist(weights, bins=100, range=(-.5, .5), label='fc1 weights')\n",
    "\n",
    "std = torch.std(weights) * 2\n",
    "weights_below_threshold = weights[abs(weights) < std]\n",
    "\n",
    "plt.hist(weights_below_threshold, bins=100, range=(-.5, .5), label='below threshold')\n",
    "\n",
    "plt.legend()"
   ]
  },
  {
   "cell_type": "markdown",
   "metadata": {
    "id": "AnBqa27SLZs0"
   },
   "source": [
    "# Step 2. Pruning\n",
    "\n",
    "Set the value of each module's `mask` to 0 wherever the absolute value of the corresponding weight does not exceed the threshold.\n",
    "\n",
    "The threshold value is computed by `sensitivity * (standard deviation of layer weights)`."
   ]
  },
  {
   "cell_type": "code",
   "execution_count": null,
   "metadata": {
    "id": "Oji7RaeQWFth"
   },
   "outputs": [],
   "source": [
    "def prune_by_std(model, sensitivity=2.0):\n",
    "    for name, module in model.named_modules():\n",
    "        if isinstance(module, MaskedLinear):\n",
    "            #####################################\n",
    "            #               TODO\n",
    "            # Compute threshold\n",
    "            #####################################\n",
    "            threshold = # TODO\n",
    "\n",
    "            #####################################\n",
    "            #               TODO\n",
    "            # Compute new mask\n",
    "            #####################################\n",
    "            new_mask = # TODO\n",
    "\n",
    "            #####################################\n",
    "            #               TODO\n",
    "            # Copy new mask back to `module.mask`\n",
    "            #####################################\n",
    "            "
   ]
  },
  {
   "cell_type": "markdown",
   "metadata": {
    "id": "lWIrZGwOWGPL",
    "jp-MarkdownHeadingCollapsed": true,
    "tags": []
   },
   "source": [
    "### Solution"
   ]
  },
  {
   "cell_type": "code",
   "execution_count": 97,
   "metadata": {
    "id": "W_mSWCKALdYi"
   },
   "outputs": [],
   "source": [
    "def prune_by_std(model, sensitivity=2.0):\n",
    "    for name, module in model.named_modules():\n",
    "        if isinstance(module, MaskedLinear):\n",
    "            #####################################\n",
    "            #               TODO\n",
    "            # Compute threshold\n",
    "            #####################################\n",
    "            std = torch.std(module.weight.data)\n",
    "            threshold = std * sensitivity\n",
    "\n",
    "            #####################################\n",
    "            #               TODO\n",
    "            # Compute new mask\n",
    "            #####################################\n",
    "            new_mask = torch.where(\n",
    "                abs(module.weight) < threshold, \n",
    "                torch.zeros_like(module.mask), \n",
    "                module.mask\n",
    "            )\n",
    "\n",
    "            #####################################\n",
    "            #               TODO\n",
    "            # Apply new mask to `module.mask`\n",
    "            #####################################\n",
    "            module.mask.copy_(new_mask)\n",
    "            module.weight.data.copy_(module.weight.data * new_mask)"
   ]
  },
  {
   "cell_type": "markdown",
   "metadata": {
    "id": "ZAg4utEqWfW6"
   },
   "source": [
    "### Call function"
   ]
  },
  {
   "cell_type": "code",
   "execution_count": 184,
   "metadata": {
    "id": "YwK7K39bMOR9"
   },
   "outputs": [],
   "source": [
    "prune_by_std(model, 2.0)"
   ]
  },
  {
   "cell_type": "code",
   "execution_count": 185,
   "metadata": {
    "colab": {
     "base_uri": "https://localhost:8080/"
    },
    "id": "L6O7vRvYRD9V",
    "outputId": "f4d5694f-c3d6-49f6-c250-15f292a80cf4"
   },
   "outputs": [
    {
     "name": "stdout",
     "output_type": "stream",
     "text": [
      "Test set: Average loss: 1.0589, Accuracy: 7542/10000 (75.42%)\n",
      "Layer          Shape          Size (bytes)   Original Size (bytes)    Size Reduction      \n",
      "==========================================================================================\n",
      "fc1.weight     [300, 784]     41904          940800                   0.9555%             \n",
      "fc1.bias       [300]          1200           1200                     0.0000%             \n",
      "fc2.weight     [100, 300]     5100           120000                   0.9575%             \n",
      "fc2.bias       [100]          400            400                      0.0000%             \n",
      "fc3.weight     [10, 100]      328            4000                     0.9180%             \n",
      "fc3.bias       [10]           40             40                       0.0000%             \n",
      "==========================================================================================\n",
      "Total          N/A            48972          1066440                  0.9541%             \n"
     ]
    }
   ],
   "source": [
    "# Evaluate initial model performance\n",
    "test(model)\n",
    "report_model_size(model)"
   ]
  },
  {
   "cell_type": "markdown",
   "metadata": {
    "id": "_ReLOMLPYMnu"
   },
   "source": [
    "### Retrain model"
   ]
  },
  {
   "cell_type": "code",
   "execution_count": 186,
   "metadata": {
    "colab": {
     "base_uri": "https://localhost:8080/"
    },
    "id": "C5GmqV6fYOit",
    "outputId": "89617945-3c29-48a2-824c-47740a45fc17"
   },
   "outputs": [
    {
     "name": "stderr",
     "output_type": "stream",
     "text": [
      "Train Epoch: 0 [59500/60000 ( 99%)]  Loss: 0.271104: 100%|███████████████████████████████████████████████████████████████████████████████████████████████████████████████████████████████████████████████████████████████████████████████████████████| 1200/1200 [00:08<00:00, 143.74it/s]\n",
      "Train Epoch: 1 [59500/60000 ( 99%)]  Loss: 0.071051: 100%|███████████████████████████████████████████████████████████████████████████████████████████████████████████████████████████████████████████████████████████████████████████████████████████| 1200/1200 [00:07<00:00, 153.23it/s]\n",
      "Train Epoch: 2 [59500/60000 ( 99%)]  Loss: 0.275658: 100%|███████████████████████████████████████████████████████████████████████████████████████████████████████████████████████████████████████████████████████████████████████████████████████████| 1200/1200 [00:08<00:00, 147.18it/s]\n",
      "Train Epoch: 3 [59500/60000 ( 99%)]  Loss: 0.069647: 100%|███████████████████████████████████████████████████████████████████████████████████████████████████████████████████████████████████████████████████████████████████████████████████████████| 1200/1200 [00:07<00:00, 150.68it/s]\n",
      "Train Epoch: 4 [59500/60000 ( 99%)]  Loss: 0.292258: 100%|███████████████████████████████████████████████████████████████████████████████████████████████████████████████████████████████████████████████████████████████████████████████████████████| 1200/1200 [00:07<00:00, 152.37it/s]\n"
     ]
    }
   ],
   "source": [
    "train(model, 5)"
   ]
  },
  {
   "cell_type": "code",
   "execution_count": 200,
   "metadata": {
    "colab": {
     "base_uri": "https://localhost:8080/"
    },
    "id": "Dl61oZNzafku",
    "outputId": "1284d765-82a6-4ca1-dce8-9c796cffc864"
   },
   "outputs": [
    {
     "name": "stdout",
     "output_type": "stream",
     "text": [
      "Test set: Average loss: 0.1153, Accuracy: 9662/10000 (96.62%)\n",
      "Layer          Shape          Size (bytes)   Original Size (bytes)    Size Reduction      \n",
      "==========================================================================================\n",
      "fc1.weight     [300, 784]     41904          940800                   0.9555%             \n",
      "fc1.bias       [300]          1200           1200                     0.0000%             \n",
      "fc2.weight     [100, 300]     5100           120000                   0.9575%             \n",
      "fc2.bias       [100]          400            400                      0.0000%             \n",
      "fc3.weight     [10, 100]      328            4000                     0.9180%             \n",
      "fc3.bias       [10]           40             40                       0.0000%             \n",
      "==========================================================================================\n",
      "Total          N/A            48972          1066440                  0.9541%             \n"
     ]
    }
   ],
   "source": [
    "test(model)\n",
    "report_model_size(model)"
   ]
  },
  {
   "cell_type": "code",
   "execution_count": 197,
   "metadata": {
    "id": "ObtiFFVN58Sw"
   },
   "outputs": [],
   "source": [
    "# Save checkpoint\n",
    "torch.save({\n",
    "    'state_dict': model.state_dict(),\n",
    "    'mask1': model.fc1.mask,\n",
    "    'mask2': model.fc2.mask,\n",
    "    'mask3': model.fc3.mask\n",
    "}, \"pruned_model_statedict.pth\")"
   ]
  },
  {
   "cell_type": "markdown",
   "metadata": {
    "id": "xIZqRptJXSfh"
   },
   "source": [
    "# Step 3. Quantization\n",
    "\n",
    "Hint: use the `csr_matrix` function to convert between sparse weights and dense weights.\n",
    "Note: You need to convert the PyTorch tensor to Numpy array first.\n",
    "\n",
    "Example:\n",
    "```python\n",
    "mat = np.array([[0, 0, 1], [0, 2, 0]])\n",
    "mat = csr_matrix(mat)\n",
    "\n",
    "# Extract only the nonzero elements\n",
    "mat.data  # Output: array([1, 2])\n",
    "\n",
    "# Assign to the nonzero elements of `mat`\n",
    "mat.data = np.array([3, 4])\n",
    "\n",
    "# Convert back to dense representation\n",
    "mat = mat.toarray()  # Output: array([[0, 0, 3], [0, 4, 0]])\n",
    "```\n",
    "\n",
    "Hint2: Use the `Kmeans` function to cluster similar weights together.\n",
    "\n",
    "Example:\n",
    "```python\n",
    "kmeans = KMeans(n_clusters=2)\n",
    "kmeans.fit(np.array([[10], [1], [2], [11], [12], [3]]))\n",
    "\n",
    "# Obtain the center values of each cluster\n",
    "kmeans.cluster_centers_  # Output: array([2, 11])\n",
    "\n",
    "# Obtain which cluster each element belongs to\n",
    "kmeans.labels_  # Output: array([1, 0, 0, 1, 1, 0])\n",
    "```"
   ]
  },
  {
   "cell_type": "code",
   "execution_count": 20,
   "metadata": {
    "id": "tNTJnQ51ams6"
   },
   "outputs": [],
   "source": [
    "def quantize_weights(model, bits=5):\n",
    "    for name, module in model.named_modules():\n",
    "        if isinstance(module, MaskedLinear):\n",
    "            weight = (module.weight.data * module.mask).cpu().numpy()\n",
    "            \n",
    "            ########################################\n",
    "            #                 TODO\n",
    "            # Quantize each weight of the module\n",
    "            # with the specified number of bits\n",
    "            ########################################"
   ]
  },
  {
   "cell_type": "markdown",
   "metadata": {
    "id": "nzsnWVRtBuX1",
    "jp-MarkdownHeadingCollapsed": true,
    "tags": []
   },
   "source": [
    "### Solution"
   ]
  },
  {
   "cell_type": "code",
   "execution_count": 21,
   "metadata": {
    "id": "p6K4vZxMBtuO"
   },
   "outputs": [],
   "source": [
    "def quantize_weights(model, bits=5):\n",
    "    for name, module in model.named_modules():\n",
    "        if isinstance(module, MaskedLinear):\n",
    "            weight = (module.weight.data * module.mask).cpu().numpy()\n",
    "            \n",
    "            mat = csr_matrix(weight)\n",
    "\n",
    "            kmeans = KMeans(n_clusters=2**bits)\n",
    "            kmeans.fit(mat.data.reshape(-1,1))\n",
    "\n",
    "            new_weight = kmeans.cluster_centers_[kmeans.labels_].reshape(-1)\n",
    "            mat.data = new_weight\n",
    "            module.weight.data.copy_(torch.from_numpy(mat.toarray()).cuda())"
   ]
  },
  {
   "cell_type": "markdown",
   "metadata": {
    "id": "fSgXsyzlCWA7"
   },
   "source": [
    "### Call function"
   ]
  },
  {
   "cell_type": "code",
   "execution_count": 22,
   "metadata": {
    "colab": {
     "base_uri": "https://localhost:8080/"
    },
    "id": "jiFhxCO9CHUQ",
    "outputId": "85b285b1-a86e-4fce-f095-78abdf0ee200"
   },
   "outputs": [],
   "source": [
    "# Load checkpoint from step 1 (optional)\n",
    "ckpt = torch.load(\"pruned_model_statedict.pth\")\n",
    "model.load_state_dict(ckpt['state_dict'])\n",
    "model.fc1.mask.copy_(ckpt['mask1'])\n",
    "model.fc2.mask.copy_(ckpt['mask2'])\n",
    "model.fc3.mask.copy_(ckpt['mask3']);"
   ]
  },
  {
   "cell_type": "code",
   "execution_count": 23,
   "metadata": {
    "id": "s_DtlCFWdPeq"
   },
   "outputs": [],
   "source": [
    "quantize_weights(model)"
   ]
  },
  {
   "cell_type": "code",
   "execution_count": 24,
   "metadata": {
    "colab": {
     "base_uri": "https://localhost:8080/"
    },
    "id": "-3qjxyRBlmr6",
    "outputId": "c08586e4-5755-45a1-e8ec-7d0403eb6fe7"
   },
   "outputs": [
    {
     "name": "stdout",
     "output_type": "stream",
     "text": [
      "Test set: Average loss: 0.1153, Accuracy: 9662/10000 (96.62%)\n",
      "Layer          Shape          Size (bytes)   Original Size (bytes)    Size Reduction      \n",
      "==========================================================================================\n",
      "fc1.weight     [300, 784]     6548           940800                   0.9930%             \n",
      "fc1.bias       [300]          1200           1200                     0.0000%             \n",
      "fc2.weight     [100, 300]     797            120000                   0.9934%             \n",
      "fc2.bias       [100]          400            400                      0.0000%             \n",
      "fc3.weight     [10, 100]      51             4000                     0.9872%             \n",
      "fc3.bias       [10]           40             40                       0.0000%             \n",
      "==========================================================================================\n",
      "Total          N/A            9036           1066440                  0.9915%             \n"
     ]
    }
   ],
   "source": [
    "# Evaluate quantized model performance\n",
    "test(model)\n",
    "report_model_size(model, bits_per_weight=5)"
   ]
  },
  {
   "cell_type": "code",
   "execution_count": 25,
   "metadata": {
    "id": "8eo11Vqi6a1t"
   },
   "outputs": [],
   "source": [
    "# Save checkpoint\n",
    "torch.save({\n",
    "    'state_dict': model.state_dict(),\n",
    "    'mask1': model.fc1.mask,\n",
    "    'mask2': model.fc2.mask,\n",
    "    'mask3': model.fc3.mask\n",
    "}, \"quantized_model_statedict.pth\")"
   ]
  },
  {
   "cell_type": "markdown",
   "metadata": {
    "id": "d9dOKFif6fpA"
   },
   "source": [
    "# Step 4. Huffman Coding"
   ]
  },
  {
   "cell_type": "code",
   "execution_count": 30,
   "metadata": {
    "colab": {
     "base_uri": "https://localhost:8080/"
    },
    "id": "KOSRyr-kH86D",
    "outputId": "2961ad6d-21cb-40f6-a112-bb7cb6c6254f"
   },
   "outputs": [
    {
     "name": "stdout",
     "output_type": "stream",
     "text": [
      "Layer           |   original compressed improvement percent\n",
      "----------------------------------------------------------------------\n",
      "fc1.weight      |      85012      20284       4.19x  23.86%\n",
      "fc1.bias        |       1200       1200       1.00x 100.00%\n",
      "fc2.weight      |      10604       3079       3.44x  29.04%\n",
      "fc2.bias        |        400        400       1.00x 100.00%\n",
      "fc3.weight      |        700        443       1.58x  63.29%\n",
      "fc3.bias        |         40         40       1.00x 100.00%\n",
      "----------------------------------------------------------------------\n",
      "total           |      97956      25446       3.85x  25.98%\n",
      "Loading Huffman coded model\n",
      "Testing\n",
      "Test set: Average loss: 0.1153, Accuracy: 9662/10000 (96.62%)\n"
     ]
    },
    {
     "data": {
      "text/plain": [
       "96.62"
      ]
     },
     "execution_count": 30,
     "metadata": {},
     "output_type": "execute_result"
    }
   ],
   "source": [
    "from huffman import huffman_encode_model, huffman_decode_model\n",
    "\n",
    "huffman_encode_model(model)\n",
    "\n",
    "print(\"Loading Huffman coded model\")\n",
    "huffman_decode_model(model)\n",
    "\n",
    "print(\"Testing\")\n",
    "test(model)"
   ]
  },
  {
   "cell_type": "code",
   "execution_count": 28,
   "metadata": {
    "colab": {
     "base_uri": "https://localhost:8080/"
    },
    "id": "7ZJcUBptAHtE",
    "outputId": "dfec98af-8b10-43d4-f316-f44d4d0e0e52"
   },
   "outputs": [
    {
     "name": "stdout",
     "output_type": "stream",
     "text": [
      "31075\tencodings\n"
     ]
    }
   ],
   "source": [
    "# Check saved file size (in bytes)\n",
    "!du -b encodings"
   ]
  },
  {
   "cell_type": "code",
   "execution_count": 29,
   "metadata": {
    "colab": {
     "base_uri": "https://localhost:8080/"
    },
    "id": "0MJotPqxAixf",
    "outputId": "9370bdc8-2769-4b57-a14a-236c20594801"
   },
   "outputs": [
    {
     "data": {
      "text/plain": [
       "0.9708609954615356"
      ]
     },
     "execution_count": 29,
     "metadata": {},
     "output_type": "execute_result"
    }
   ],
   "source": [
    "# calculate reduction in size\n",
    "# You should get around 97% reduction\n",
    "1 - 31075 / 1066440"
   ]
  },
  {
   "cell_type": "code",
   "execution_count": null,
   "metadata": {
    "id": "wmlviV1dBWNz"
   },
   "outputs": [],
   "source": []
  }
 ],
 "metadata": {
  "accelerator": "GPU",
  "colab": {
   "collapsed_sections": [
    "DKt1TfTLFkJ8",
    "e-Rgi3jVBkOB",
    "FGj2suo9FnaZ",
    "a3tKMguTKYx2",
    "AnBqa27SLZs0",
    "lWIrZGwOWGPL",
    "xIZqRptJXSfh",
    "nzsnWVRtBuX1"
   ],
   "name": "Deep Compression.ipynb",
   "provenance": []
  },
  "kernelspec": {
   "display_name": "conda",
   "language": "python",
   "name": "conda"
  },
  "language_info": {
   "codemirror_mode": {
    "name": "ipython",
    "version": 3
   },
   "file_extension": ".py",
   "mimetype": "text/x-python",
   "name": "python",
   "nbconvert_exporter": "python",
   "pygments_lexer": "ipython3",
   "version": "3.9.10"
  }
 },
 "nbformat": 4,
 "nbformat_minor": 4
}
